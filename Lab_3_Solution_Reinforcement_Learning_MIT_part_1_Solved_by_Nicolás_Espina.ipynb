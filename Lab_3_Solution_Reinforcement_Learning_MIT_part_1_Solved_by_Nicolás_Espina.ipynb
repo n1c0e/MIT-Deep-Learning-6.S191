{
  "cells": [
    {
      "cell_type": "markdown",
      "metadata": {
        "id": "view-in-github",
        "colab_type": "text"
      },
      "source": [
        "<a href=\"https://colab.research.google.com/github/n1c0e/MIT-Deep-Learning-6.S191/blob/main/Lab_3_Solution_Reinforcement_Learning_MIT_part_1_Solved_by_Nicol%C3%A1s_Espina.ipynb\" target=\"_parent\"><img src=\"https://colab.research.google.com/assets/colab-badge.svg\" alt=\"Open In Colab\"/></a>"
      ]
    },
    {
      "cell_type": "markdown",
      "metadata": {
        "id": "jrI6q7RmWQam"
      },
      "source": [
        "<table align=\"center\">\n",
        "  <td align=\"center\"><a target=\"_blank\" href=\"http://introtodeeplearning.com\">\n",
        "        <img src=\"https://i.ibb.co/Jr88sn2/mit.png\" style=\"padding-bottom:5px;\" />\n",
        "      Visit MIT Deep Learning</a></td>\n",
        "  <td align=\"center\"><a target=\"_blank\" href=\"https://colab.research.google.com/github/aamini/introtodeeplearning/blob/master/lab3/RL.ipynb\">\n",
        "        <img src=\"https://i.ibb.co/2P3SLwK/colab.png\"  style=\"padding-bottom:5px;\" />Run in Google Colab</a></td>\n",
        "  <td align=\"center\"><a target=\"_blank\" href=\"https://github.com/aamini/introtodeeplearning/blob/master/lab3/RL.ipynb\">\n",
        "        <img src=\"https://i.ibb.co/xfJbPmL/github.png\"  height=\"70px\" style=\"padding-bottom:5px;\"  />View Source on GitHub</a></td>\n",
        "</table>\n",
        "\n",
        "# Copyright Information"
      ]
    },
    {
      "cell_type": "code",
      "execution_count": null,
      "metadata": {
        "id": "wkd375upWYok"
      },
      "outputs": [],
      "source": [
        "# Copyright 2022 MIT 6.S191 Introduction to Deep Learning. All Rights Reserved.\n",
        "#\n",
        "# Licensed under the MIT License. You may not use this file except in compliance\n",
        "# with the License. Use and/or modification of this code outside of 6.S191 must\n",
        "# reference:\n",
        "#\n",
        "# © MIT 6.S191: Introduction to Deep Learning\n",
        "# http://introtodeeplearning.com\n",
        "#\n",
        "# Lab solution, additional comments, and modifications made by Nicolás Espina.\n",
        "#"
      ]
    },
    {
      "cell_type": "markdown",
      "metadata": {
        "id": "WoXYKhfZMHiw"
      },
      "source": [
        "# Laboratory 3: Reinforcement Learning\n",
        "\n",
        "Reinforcement learning (RL) is a subset of machine learning which poses learning problems as interactions between agents and environments. It often assumes agents have no prior knowledge of a world, so they must learn to navigate environments by optimizing a reward function. Within an environment, an agent can take certain actions and receive feedback, in the form of positive or negative rewards, with respect to their decision. As such, an agent's feedback loop is somewhat akin to the idea of \"trial and error\", or the manner in which a child might learn to distinguish between \"good\" and \"bad\" actions.\n",
        "\n",
        "In practical terms, our RL agent will interact with the environment by taking an action at each timestep, receiving a corresponding reward, and updating its state according to what it has \"learned\".  \n",
        "\n",
        "![alt text](https://www.kdnuggets.com/images/reinforcement-learning-fig1-700.jpg)\n",
        "\n",
        "While the ultimate goal of reinforcement learning is to teach agents to act in the real, physical world, simulated environments -- like games and simulation engines -- provide a convenient proving ground for developing RL algorithms and agents.\n",
        "\n",
        "In previous labs, we have explored both supervised (with LSTMs, CNNs) and unsupervised / semi-supervised (with VAEs) learning tasks. Reinforcement learning is fundamentally different, in that we are training a deep learning algorithm to govern the actions of our RL agent, that is trying, within its environment, to find the optimal way to achieve a goal. The goal of training an RL agent is to determine the best next step to take to earn the greatest final payoff or return. In this lab, we focus on building a reinforcement learning algorithm to master two different environments with varying complexity.\n",
        "\n",
        "1.   **Cartpole**:   Balance a pole, protruding from a cart, in an upright position by only moving the base left or right. Environment with a low-dimensional observation space.\n",
        "2.   [**Driving in VISTA**](https://www.mit.edu/~amini/pubs/pdf/learning-in-simulation-vista.pdf): Learn a driving control policy for an autonomous vehicle, end-to-end from raw pixel inputs and entirely in the data-driven simulation environment of VISTA. Environment with a high-dimensional observation space -- learning directly from raw pixels.\n",
        "\n",
        "Let's get started! First we'll import TensorFlow, the course package, and some dependencies.\n"
      ]
    },
    {
      "cell_type": "code",
      "execution_count": null,
      "metadata": {
        "id": "KR9QHuleJ9Bh",
        "colab": {
          "base_uri": "https://localhost:8080/"
        },
        "outputId": "185f9e63-aaef-4882-e6c1-1bb3a36827ce"
      },
      "outputs": [
        {
          "output_type": "stream",
          "name": "stdout",
          "text": [
            "gpus = [PhysicalDevice(name='/physical_device:GPU:0', device_type='GPU')] \n",
            "len(gpus) = 1\n",
            "gpu =  PhysicalDevice(name='/physical_device:GPU:0', device_type='GPU')\n",
            "Installing MIT deep learning package... Done\n"
          ]
        }
      ],
      "source": [
        "import tensorflow as tf\n",
        "\n",
        "gpus = tf.config.experimental.list_physical_devices('GPU')\n",
        "if gpus:\n",
        "  print(\"gpus =\",gpus,\"\\nlen(gpus) =\",len(gpus))\n",
        "  for gpu in gpus:\n",
        "    print(\"gpu = \",gpu)\n",
        "    # gpu: Es el identificador del objeto que representa a la GPU en la que deseas controlar el uso de la memoria\n",
        "    tf.config.experimental.set_memory_growth(gpu, True)\n",
        "    # True: Este argumento habilita el crecimiento dinámico de la memoria.\n",
        "    # Esto permite que TensorFlow asigne solo la cantidad de memoria GPU necesaria para la operación y\n",
        "    # permita que esta crezca dinámicamente hasta un límite máximo, en lugar de reservar toda la memoria de la GPU al inicio.\n",
        "\n",
        "# Download and import the MIT 6.S191 package\n",
        "!printf \"Installing MIT deep learning package... \"\n",
        "!pip install --upgrade git+https://github.com/aamini/introtodeeplearning.git &> /dev/null\n",
        "!echo \"Done\""
      ]
    },
    {
      "cell_type": "code",
      "execution_count": null,
      "metadata": {
        "id": "EvdePP-VyVWp"
      },
      "outputs": [],
      "source": [
        "#Install some dependencies for visualizing the agents\n",
        "!apt-get install -y xvfb python-opengl x11-utils &> /dev/null\n",
        "!pip install pyvirtualdisplay scikit-video ffio pyrender &> /dev/null\n",
        "!pip install tensorflow_probability &> /dev/null\n",
        "import os\n",
        "os.environ['PYOPENGL_PLATFORM'] = 'egl'\n",
        "\n",
        "import numpy as np\n",
        "import matplotlib, cv2\n",
        "import matplotlib.pyplot as plt\n",
        "import base64, io, os, time\n",
        "import IPython, functools\n",
        "import time\n",
        "from tqdm import tqdm\n",
        "import tensorflow_probability as tfp\n",
        "\n",
        "import mitdeeplearning as mdl"
      ]
    },
    {
      "cell_type": "markdown",
      "metadata": {
        "id": "zmrHSiXKTXTY"
      },
      "source": [
        "Before we dive in, let's take a step back and outline our approach, which is generally applicable to reinforcement learning problems in general:\n",
        "\n",
        "1. **Initialize our environment and our agent**: here we will describe the different observations and actions the agent can make in the environment.\n",
        "2. **Define our agent's memory**: this will enable the agent to remember its past actions, observations, and rewards.\n",
        "3. **Define a reward function**: describes the reward associated with an action or sequence of actions.\n",
        "4. **Define the learning algorithm**: this will be used to reinforce the agent's good behaviors and discourage bad behaviors.\n"
      ]
    },
    {
      "cell_type": "markdown",
      "metadata": {
        "id": "UT7YL8KBJIIc"
      },
      "source": [
        "# Part 1: Cartpole\n",
        "\n",
        "## 3.1 Define the Cartpole environment and agent\n",
        "\n",
        "### Environment\n",
        "\n",
        "In order to model the environment for the Cartpole task, we'll be using a toolkit developed by OpenAI called [OpenAI Gym](https://gym.openai.com/). It provides several pre-defined environments for training and testing reinforcement learning agents, including those for classic physics control tasks, Atari video games, and robotic simulations. To access the Cartpole environment, we can use `env = gym.make(\"CartPole-v0\")`, which we gained access to when we imported the `gym` package. We can instantiate different [environments](https://gym.openai.com/envs/#classic_control) by passing the environment name to the `make` function.\n",
        "\n",
        "One issue we might experience when developing RL algorithms is that many aspects of the learning process are inherently random: initializing game states, changes in the environment, and the agent's actions. As such, it can be helpful to set a initial \"seed\" for the environment to ensure some level of reproducibility. Much like you might use `numpy.random.seed`, we can call the comparable function in gym, `seed`, with our defined environment to ensure the environment's random variables are initialized the same each time."
      ]
    },
    {
      "cell_type": "code",
      "source": [
        "!pip install gymnasium"
      ],
      "metadata": {
        "colab": {
          "base_uri": "https://localhost:8080/"
        },
        "id": "Wvur83kOE8dc",
        "outputId": "d7c28dc9-ff5b-4971-f740-139e455c0b0d"
      },
      "execution_count": null,
      "outputs": [
        {
          "output_type": "stream",
          "name": "stdout",
          "text": [
            "Collecting gymnasium\n",
            "  Downloading gymnasium-0.29.1-py3-none-any.whl.metadata (10 kB)\n",
            "Requirement already satisfied: numpy>=1.21.0 in /usr/local/lib/python3.10/dist-packages (from gymnasium) (1.26.4)\n",
            "Requirement already satisfied: cloudpickle>=1.2.0 in /usr/local/lib/python3.10/dist-packages (from gymnasium) (2.2.1)\n",
            "Requirement already satisfied: typing-extensions>=4.3.0 in /usr/local/lib/python3.10/dist-packages (from gymnasium) (4.12.2)\n",
            "Collecting farama-notifications>=0.0.1 (from gymnasium)\n",
            "  Downloading Farama_Notifications-0.0.4-py3-none-any.whl.metadata (558 bytes)\n",
            "Downloading gymnasium-0.29.1-py3-none-any.whl (953 kB)\n",
            "\u001b[?25l   \u001b[90m━━━━━━━━━━━━━━━━━━━━━━━━━━━━━━━━━━━━━━━━\u001b[0m \u001b[32m0.0/953.9 kB\u001b[0m \u001b[31m?\u001b[0m eta \u001b[36m-:--:--\u001b[0m\r\u001b[2K   \u001b[91m━━━━━━━━━━━━━━━━━━━━━━━━━━━━━━━━━━━━━━━\u001b[0m\u001b[91m╸\u001b[0m \u001b[32m952.3/953.9 kB\u001b[0m \u001b[31m29.7 MB/s\u001b[0m eta \u001b[36m0:00:01\u001b[0m\r\u001b[2K   \u001b[90m━━━━━━━━━━━━━━━━━━━━━━━━━━━━━━━━━━━━━━━━\u001b[0m \u001b[32m953.9/953.9 kB\u001b[0m \u001b[31m21.2 MB/s\u001b[0m eta \u001b[36m0:00:00\u001b[0m\n",
            "\u001b[?25hDownloading Farama_Notifications-0.0.4-py3-none-any.whl (2.5 kB)\n",
            "Installing collected packages: farama-notifications, gymnasium\n",
            "Successfully installed farama-notifications-0.0.4 gymnasium-0.29.1\n"
          ]
        }
      ]
    },
    {
      "cell_type": "code",
      "source": [
        "import gymnasium as gym"
      ],
      "metadata": {
        "id": "AI6ExWs9FPgz"
      },
      "execution_count": null,
      "outputs": []
    },
    {
      "cell_type": "code",
      "execution_count": null,
      "metadata": {
        "id": "quv9SC0iIYFm"
      },
      "outputs": [],
      "source": [
        "### Instantiate the Cartpole environment ###\n",
        "env = gym.make(\"CartPole-v1\", render_mode='rgb_array')"
      ]
    },
    {
      "cell_type": "markdown",
      "metadata": {
        "id": "mhEITUcKK455"
      },
      "source": [
        "In Cartpole, a pole is attached by an un-actuated joint to a cart, which moves along a frictionless track. The pole starts upright, and the goal is to prevent it from falling over. The system is controlled by applying a force of +1 or -1 to the cart. A reward of +1 is provided for every timestep that the pole remains upright. The episode ends when the pole is more than 15 degrees from vertical, or the cart moves more than 2.4 units from the center of the track. A visual summary of the cartpole environment is depicted below:\n",
        "\n",
        "<img width=\"400px\" src=\"https://danielpiedrahita.files.wordpress.com/2017/02/cart-pole.png\"></img>\n",
        "\n",
        "Given this setup for the environment and the objective of the game, we can think about: 1) what observations help define the environment's state; 2) what actions the agent can take.\n",
        "\n",
        "First, let's consider the observation space. In this [Cartpole environment](https://gymnasium.farama.org/environments/classic_control/cart_pole/) our observations are:\n",
        "\n",
        "1. Cart position\n",
        "2. Cart velocity\n",
        "3. Pole angle\n",
        "4. Pole rotation rate\n",
        "\n",
        "We can confirm the size of the space by querying the environment's observation space:\n"
      ]
    },
    {
      "cell_type": "code",
      "execution_count": null,
      "metadata": {
        "id": "UVJaEcbdIX82",
        "colab": {
          "base_uri": "https://localhost:8080/"
        },
        "outputId": "0f8a3006-740c-461b-a80a-8658339239b1"
      },
      "outputs": [
        {
          "output_type": "stream",
          "name": "stdout",
          "text": [
            "Environment has observation space = Box([-4.8000002e+00 -3.4028235e+38 -4.1887903e-01 -3.4028235e+38], [4.8000002e+00 3.4028235e+38 4.1887903e-01 3.4028235e+38], (4,), float32)\n"
          ]
        }
      ],
      "source": [
        "n_observations = env.observation_space\n",
        "print(\"Environment has observation space =\", n_observations)"
      ]
    },
    {
      "cell_type": "markdown",
      "source": [
        "`Box`: describes an n-dimensional continuous space. It’s a bounded space where we can define the upper and lower limits which describe the valid values our observations can take."
      ],
      "metadata": {
        "id": "qrOmXo8mI8k1"
      }
    },
    {
      "cell_type": "markdown",
      "metadata": {
        "id": "ZibGgjrALgPM"
      },
      "source": [
        "Second, we consider the action space. At every time step, the agent can move either right or left. Again we can confirm the size of the action space by querying the environment:"
      ]
    },
    {
      "cell_type": "code",
      "execution_count": null,
      "metadata": {
        "id": "qc9SIPxBIXrm",
        "colab": {
          "base_uri": "https://localhost:8080/"
        },
        "outputId": "ba9e01f0-cbd6-4d75-f06a-713eddbf9239"
      },
      "outputs": [
        {
          "output_type": "stream",
          "name": "stdout",
          "text": [
            "env.action_space = Discrete(2)\n",
            "Number of possible actions that the agent can choose from = 2\n"
          ]
        }
      ],
      "source": [
        "print(\"env.action_space =\", env.action_space)\n",
        "n_actions = env.action_space.n\n",
        "print(\"Number of possible actions that the agent can choose from =\", n_actions)"
      ]
    },
    {
      "cell_type": "markdown",
      "metadata": {
        "id": "pPfHME8aRKkb"
      },
      "source": [
        "### Cartpole agent\n",
        "\n",
        "Now that we have instantiated the environment and understood the dimensionality of the observation and action spaces, we are ready to define our agent. In deep reinforcement learning, a deep neural network defines the agent. The last layer will take as number of units (n_actions) corresponds to the number of possible actions the agent can take in a given environment. This layer should not have an activation function (activation=None), meaning it outputs raw logits, which are unnormalized predictions for each action. of taking each of the possible actions. Since Cartpole is defined by a low-dimensional observation space, a simple feed-forward neural network should work well for our agent. We will define this using the `Sequential` API.\n"
      ]
    },
    {
      "cell_type": "code",
      "execution_count": null,
      "metadata": {
        "id": "W-o_XK4oQ4eu"
      },
      "outputs": [],
      "source": [
        "### Define the Cartpole agent ###\n",
        "\n",
        "# Defines a feed-forward neural network\n",
        "def create_cartpole_model():\n",
        "    # TODO: Define the last Dense layer, which will provide the network's output.\n",
        "    # Think about the space the agent needs to act in! ['''TODO''' Dense layer to output action probabilities]\n",
        "\n",
        "    model = tf.keras.models.Sequential([\n",
        "        # First Dense layer\n",
        "        tf.keras.layers.Dense(units=32, activation='relu'),\n",
        "        tf.keras.layers.Dense(units=32, activation='relu'),\n",
        "        tf.keras.layers.Dense(units=n_actions, activation=None)\n",
        "    ])\n",
        "    return model\n",
        "\n",
        "cartpole_model = create_cartpole_model()"
      ]
    },
    {
      "cell_type": "markdown",
      "metadata": {
        "id": "d5D5NSIYS2IW"
      },
      "source": [
        "Now that we have defined the core network architecture, we will define an *action function* that executes a forward pass through the network, given a set of observations, and samples from the output. This sampling from the output probabilities will be used to select the next action for the agent. We will also add support so that the `choose_action` function can handle either a single observation or a batch of observations.\n",
        "\n",
        "**Critically, this action function is totally general -- we will use this function for learning control algorithms for Cartpole, but it is applicable to other RL tasks, as well!**"
      ]
    },
    {
      "cell_type": "code",
      "execution_count": null,
      "metadata": {
        "id": "E_vVZRr8Q4R_"
      },
      "outputs": [],
      "source": [
        "### Define the agent's action function ###\n",
        "\n",
        "# Function that takes observations as input, executes a forward pass through model,\n",
        "#   and outputs a sampled action.\n",
        "# Arguments:\n",
        "#   model: the network that defines our agent\n",
        "#   observation: observation(s) which is/are fed as input to the model\n",
        "#   single: flag as to whether we are handling a single observation or batch of\n",
        "#     observations, provided as an np.array\n",
        "# Returns:\n",
        "#   action: choice of agent action\n",
        "def choose_action(model, observation, single=True):\n",
        "    # add batch dimension to the observation if only a single example was provided\n",
        "    observation = np.expand_dims(observation, axis=0) if single else observation\n",
        "\n",
        "    '''TODO: feed the observations through the model to predict the probabilities of each possible action.'''\n",
        "    # - model.predict(...):\n",
        "    # Se utiliza para realizar predicciones con un modelo entrenado.\n",
        "    # Toma como entrada datos (matriz o tensor) y devuelve las predicciones del modelo.\n",
        "    logits = model.predict(observation,verbose=0)\n",
        "\n",
        "    '''TODO: Choose an action from the categorical distribution defined by the log\n",
        "       probabilities of each possible action.'''\n",
        "    action = tf.random.categorical(logits, num_samples=1)\n",
        "    action = action.numpy().flatten()\n",
        "\n",
        "    return action[0] if single else action"
      ]
    },
    {
      "cell_type": "markdown",
      "metadata": {
        "id": "_tR9uAWcTnkr"
      },
      "source": [
        "## 3.2 Define the agent's memory\n",
        "\n",
        "Now that we have instantiated the environment and defined the agent network architecture and action function, we are ready to move on to the next step in our RL workflow:\n",
        "1. **Initialize our environment and our agent**: here we will describe the different observations and actions the agent can make in the environemnt.\n",
        "2. **Define our agent's memory**: this will enable the agent to remember its past actions, observations, and rewards.\n",
        "3. **Define the learning algorithm**: this will be used to reinforce the agent's good behaviors and discourage bad behaviors.\n",
        "\n",
        "In reinforcement learning, training occurs alongside the agent's acting in the environment; an *episode* refers to a sequence of actions that ends in some terminal state, such as the pole falling down or the cart crashing. The agent will need to remember all of its observations and actions, such that once an episode ends, it can learn to \"reinforce\" the good actions and punish the undesirable actions via training. Our first step is to define a simple `Memory` buffer that contains the agent's observations, actions, and received rewards from a given episode. We will also add support to combine a list of `Memory` objects into a single `Memory`. This will be very useful for batching, which will help you accelerate training later on in the lab.\n",
        "\n",
        "**Once again, note the modularity of this memory buffer -- it can and will be applied to other RL tasks as well!**"
      ]
    },
    {
      "cell_type": "code",
      "execution_count": null,
      "metadata": {
        "id": "8MM6JwXVQ4JG"
      },
      "outputs": [],
      "source": [
        "### Agent Memory ###\n",
        "\n",
        "class Memory:\n",
        "    def __init__(self):\n",
        "        self.clear()\n",
        "\n",
        "  # Resets/restarts the memory buffer\n",
        "    def clear(self):\n",
        "        self.observations = []\n",
        "        self.actions = []\n",
        "        self.rewards = []\n",
        "\n",
        "  # Add observations, actions, rewards to memory\n",
        "    def add_to_memory(self, new_observation, new_action, new_reward):\n",
        "        self.observations.append(new_observation)\n",
        "\n",
        "        '''TODO: update the list of actions with new action'''\n",
        "        self.actions.append(new_action)\n",
        "\n",
        "        '''TODO: update the list of rewards with new reward'''\n",
        "        self.rewards.append(new_reward)\n",
        "\n",
        "    def __len__(self):\n",
        "        return len(self.actions)\n",
        "\n",
        "# Instantiate a single Memory buffer\n",
        "memory = Memory()"
      ]
    },
    {
      "cell_type": "markdown",
      "metadata": {
        "id": "D4YhtPaUVj5m"
      },
      "source": [
        "## 3.3 Reward function\n",
        "\n",
        "The next step is to compute the rewards of our agent as it acts in the environment. Since we (and the agent) is uncertain about if and when the game or task will end (i.e., when the pole will fall), it is useful to emphasize getting rewards ***now*** rather than later in the future -- this is the idea of discounting. Recall from lecture, we use reward discount to give more preference at getting rewards now rather than later in the future.\n",
        "\n",
        "To compute the expected cumulative reward, known as the ***return***, at a given timestep in a learning episode, we sum the discounted rewards expected at that time step $t$, within a learning episode, and projecting into the future. We define the return (cumulative reward) at a time step $t$, $R_{t}$ as:\n",
        "> $$R_{t}=\\sum_{k=0}^\\infty\\gamma^kr_{t+k}=\\sum_{k=0}^{N-t}\\gamma^kr_{t+k} \\quad (\\text{ if }\\forall k>N, r_{k}=0)$$\n",
        "\n",
        "> $$R_{t-1}=r_{t-1}+\\gamma R_{t}, \\gamma \\in (0,1)$$\n",
        "Proof:\n",
        "> $R_{t-1}=\\sum_{k=0}^\\infty\\gamma^kr_{t-1+k}=r_{t-1}+\\gamma\\sum_{k=1}^\\infty\\gamma^{k-1} r_{t-1+k}=r_{t-1}+\\gamma\\sum_{j=0}^\\infty\\gamma^{j} r_{t+j}=r_{t-1}+\\gamma R_{t}$\n",
        "\n",
        "\n",
        "where  $0 < \\gamma < 1$ is the discount factor and $r_{t}$ is the reward at time step $t$, and the index $k$ increments projection into the future within a single learning episode. Intuitively, you can think of this function as depreciating any rewards received at later time steps, which will force the agent prioritize getting rewards now. Since we can't extend episodes to infinity, in practice the computation will be limited to the number of timesteps in an episode -- *after that the reward is assumed to be zero*.\n",
        "\n",
        "Take note of the form of this sum -- we'll have to be clever about how we implement this function. Specifically, we'll need to initialize an array of zeros, with length of the number of time steps, and fill it with the real discounted reward values as we loop through the rewards from the episode, which will have been saved in the agents memory. What we ultimately care about is which actions are better relative to other actions taken in that episode -- so, we'll normalize our computed rewards, using the mean and standard deviation of the rewards across the learning episode.\n",
        "\n",
        "We will use this definition of the reward function in both parts of the lab so make sure you have it executed!\n"
      ]
    },
    {
      "cell_type": "code",
      "execution_count": null,
      "metadata": {
        "id": "5_Q2OFYtQ32X"
      },
      "outputs": [],
      "source": [
        "### Reward function ###\n",
        "\n",
        "# Helper function that normalizes an np.array x\n",
        "def normalize(x):\n",
        "    x -= np.mean(x)\n",
        "    x /= np.std(x)\n",
        "    return x.astype(np.float32)\n",
        "\n",
        "# Compute normalized, discounted, cumulative rewards (i.e., return)\n",
        "# Arguments:\n",
        "#   rewards: reward at timesteps in episode\n",
        "#   gamma: discounting factor\n",
        "# Returns:\n",
        "#   normalized discounted reward\n",
        "def discount_rewards(rewards, gamma=0.95):\n",
        "    discounted_rewards = np.zeros_like(rewards)\n",
        "    R = 0\n",
        "    for t in reversed(range(0, len(rewards))):\n",
        "        # update the total discounted reward\n",
        "        R = rewards[t] + R * gamma\n",
        "        discounted_rewards[t] = R\n",
        "    return normalize(discounted_rewards)"
      ]
    },
    {
      "cell_type": "code",
      "source": [
        "# Definir una lista de recompensas y gamma\n",
        "rewards = np.array([1., 1., 1., 1., 1.])\n",
        "gamma=0.5\n",
        "# Aplicar la función para calcular las recompensas descontadas\n",
        "discounted_rewards = np.zeros_like(rewards)\n",
        "R = 0\n",
        "for t in reversed(range(0, len(rewards))):\n",
        "    # update the total discounted reward\n",
        "    R = rewards[t] + R * gamma\n",
        "    discounted_rewards[t] = R\n",
        "# Mostrar los resultados\n",
        "print(\"TEST\")\n",
        "print(\"Gamma: \", gamma)\n",
        "print(\"rewards: \", rewards)\n",
        "print(\"discounted rewards : \", discounted_rewards)\n",
        "print(\"normalized discounted rewards: \", normalize(discounted_rewards))"
      ],
      "metadata": {
        "colab": {
          "base_uri": "https://localhost:8080/"
        },
        "id": "xuvqbkEz353u",
        "outputId": "0648f53f-ce9b-4709-e59b-688af6180931"
      },
      "execution_count": null,
      "outputs": [
        {
          "output_type": "stream",
          "name": "stdout",
          "text": [
            "TEST\n",
            "Gamma:  0.5\n",
            "Recompensas originales:  [1. 1. 1. 1. 1.]\n",
            "Recompensas descontadas :  [1.9375 1.875  1.75   1.5    1.    ]\n",
            "Recompensas descontadas y normalizadas:  [ 0.95320624  0.76989734  0.40327957 -0.329956   -1.7964271 ]\n"
          ]
        }
      ]
    },
    {
      "cell_type": "markdown",
      "metadata": {
        "id": "QzbY-mjGYcmt"
      },
      "source": [
        "## 3.4 Learning algorithm\n",
        "\n",
        "Now we can start to define the learning algorithm which will be used to reinforce good behaviors of the agent and discourage bad behaviours. In this lab, we will focus on *policy gradient* methods which aim to **maximize** the likelihood of actions that result in large rewards. Equivalently, this means that we want to **minimize** the negative likelihood of these same actions. We achieve this by simply **scaling** the probabilities by their associated rewards -- effectively amplifying the likelihood of actions that resujlt in large rewards.\n",
        "\n",
        "Since the log function is monotonically increasing, this means that minimizing **negative likelihood** is equivalent to minimizing **negative log-likelihood**.  Recall that we can easily compute the negative log-likelihood of a discrete action by evaluting its [softmax cross entropy](https://www.tensorflow.org/api_docs/python/tf/nn/sparse_softmax_cross_entropy_with_logits) ( Warning: This operation expects unscaled logits, since it performs a softmax on logits internally for efficiency. Do not call this op with the output of softmax, as it will produce *incorrect* results). Like in supervised learning, we can use stochastic gradient descent methods to achieve the desired minimization.\n",
        "\n",
        "Let's begin by defining the loss function."
      ]
    },
    {
      "cell_type": "code",
      "execution_count": null,
      "metadata": {
        "id": "fsgZ3IDCY_Zn"
      },
      "outputs": [],
      "source": [
        "### Loss function ###\n",
        "\n",
        "# Arguments:\n",
        "#   logits: network's predictions for actions to take\n",
        "#   actions: the actions the agent took in an episode\n",
        "#   rewards: the rewards the agent received in an episode\n",
        "# Returns:\n",
        "#   loss\n",
        "def compute_loss(logits, actions, rewards):\n",
        "    '''TODO: complete the function call to compute the negative log probabilities'''\n",
        "    neg_logprob = tf.nn.sparse_softmax_cross_entropy_with_logits(logits=logits, labels=actions)\n",
        "    # Arguments:\n",
        "    # - labels:\tEach entry in labels must be an index in [0, num_classes). Other values will raise an exception on CPU, and return NaN for corresponding loss and gradient rows on GPU.\n",
        "    # - logits: Unscaled log probabilities\n",
        "    # Returns:\n",
        "    # A `Tensor` of the same shape as `labels` and same type as `logits` with the softmax cross entropy loss.\n",
        "\n",
        "    '''TODO: scale the negative log probability by the rewards'''\n",
        "    loss = tf.reduce_mean(rewards*neg_logprob) # compute mean\n",
        "    return loss"
      ]
    },
    {
      "cell_type": "markdown",
      "metadata": {
        "id": "Rr5vQ9fqbPpp"
      },
      "source": [
        "Now let's use the loss function to define a training step of our learning algorithm. This is a very generalizable definition which we will use."
      ]
    },
    {
      "cell_type": "code",
      "execution_count": null,
      "metadata": {
        "id": "_50ada7nbZ7L"
      },
      "outputs": [],
      "source": [
        "### Training step (forward and backpropagation) ###\n",
        "\n",
        "def train_step(model, loss_function, optimizer, observations, actions, discounted_rewards, custom_fwd_fn=None):\n",
        "    # `tf.GradientTape()` allows to compute gradients for optimizing models.\n",
        "    # Source: https://www.tensorflow.org/api_docs/python/tf/GradientTape\n",
        "    with tf.GradientTape() as gradient_computer:\n",
        "        # Forward propagate through the agent network\n",
        "        if custom_fwd_fn is not None:\n",
        "            prediction = custom_fwd_fn(observations)\n",
        "        else:\n",
        "            prediction = model(observations)\n",
        "\n",
        "        # Use tf.GradientTape to record necessary operations involved with loss computation\n",
        "        '''TODO: call the compute_loss function to compute the loss'''\n",
        "        loss = loss_function(prediction, actions, discounted_rewards)\n",
        "\n",
        "    '''TODO: run backpropagation to minimize the loss using the tape.gradient method.\n",
        "             Unlike supervised learning, RL is *extremely* noisy, so you will benefit\n",
        "             from additionally clipping your gradients to avoid falling into\n",
        "             dangerous local minima. After computing your gradients try also clipping\n",
        "             by a global normalizer. Try different clipping values, usually clipping\n",
        "             between 0.5 and 5 provides reasonable results. '''\n",
        "\n",
        "    # Compute the gradients of the loss function with respect to the model parameters\n",
        "    # the model is the agent that takes actions using a policy\n",
        "    gradient = gradient_computer.gradient(loss, model.trainable_variables)\n",
        "\n",
        "    # tf.clip_by_global_norm(grads, 3): Is used to clip gradients to prevent the problem of exploding gradients during training.\n",
        "    #If the global norm of the gradients exceeds 3, this function will scale down each gradient by a factor so that the global norm equals 3.\n",
        "    gradient, _ = tf.clip_by_global_norm(gradient, 3)\n",
        "    optimizer.apply_gradients(zip(gradient, model.trainable_variables))"
      ]
    },
    {
      "cell_type": "markdown",
      "metadata": {
        "id": "XsjKXh6BcgjR"
      },
      "source": [
        "## 3.5 Run cartpole!\n",
        "\n",
        "Having had no prior knowledge of the environment, the agent will begin to learn how to balance the pole on the cart based only on the feedback received from the environment! Having defined how our agent can move, how it takes in new observations, and how it updates its state, we'll see how it gradually learns a policy of actions to optimize balancing the pole as long as possible. To do this, we'll track how the rewards evolve as a function of training -- how should the rewards change as training progresses?"
      ]
    },
    {
      "cell_type": "code",
      "execution_count": null,
      "metadata": {
        "id": "-hZ7E6JOJ9Bn",
        "colab": {
          "base_uri": "https://localhost:8080/",
          "height": 238
        },
        "outputId": "84991f0f-deeb-43d3-d0dd-ae251cfe2d6c"
      },
      "outputs": [
        {
          "output_type": "display_data",
          "data": {
            "text/plain": [
              "\u001b[1mModel: \"sequential_3\"\u001b[0m\n"
            ],
            "text/html": [
              "<pre style=\"white-space:pre;overflow-x:auto;line-height:normal;font-family:Menlo,'DejaVu Sans Mono',consolas,'Courier New',monospace\"><span style=\"font-weight: bold\">Model: \"sequential_3\"</span>\n",
              "</pre>\n"
            ]
          },
          "metadata": {}
        },
        {
          "output_type": "display_data",
          "data": {
            "text/plain": [
              "┏━━━━━━━━━━━━━━━━━━━━━━━━━━━━━━━━━━━━━━┳━━━━━━━━━━━━━━━━━━━━━━━━━━━━━┳━━━━━━━━━━━━━━━━━┓\n",
              "┃\u001b[1m \u001b[0m\u001b[1mLayer (type)                        \u001b[0m\u001b[1m \u001b[0m┃\u001b[1m \u001b[0m\u001b[1mOutput Shape               \u001b[0m\u001b[1m \u001b[0m┃\u001b[1m \u001b[0m\u001b[1m        Param #\u001b[0m\u001b[1m \u001b[0m┃\n",
              "┡━━━━━━━━━━━━━━━━━━━━━━━━━━━━━━━━━━━━━━╇━━━━━━━━━━━━━━━━━━━━━━━━━━━━━╇━━━━━━━━━━━━━━━━━┩\n",
              "│ dense_9 (\u001b[38;5;33mDense\u001b[0m)                      │ ?                           │     \u001b[38;5;34m0\u001b[0m (unbuilt) │\n",
              "├──────────────────────────────────────┼─────────────────────────────┼─────────────────┤\n",
              "│ dense_10 (\u001b[38;5;33mDense\u001b[0m)                     │ ?                           │     \u001b[38;5;34m0\u001b[0m (unbuilt) │\n",
              "├──────────────────────────────────────┼─────────────────────────────┼─────────────────┤\n",
              "│ dense_11 (\u001b[38;5;33mDense\u001b[0m)                     │ ?                           │     \u001b[38;5;34m0\u001b[0m (unbuilt) │\n",
              "└──────────────────────────────────────┴─────────────────────────────┴─────────────────┘\n"
            ],
            "text/html": [
              "<pre style=\"white-space:pre;overflow-x:auto;line-height:normal;font-family:Menlo,'DejaVu Sans Mono',consolas,'Courier New',monospace\">┏━━━━━━━━━━━━━━━━━━━━━━━━━━━━━━━━━━━━━━┳━━━━━━━━━━━━━━━━━━━━━━━━━━━━━┳━━━━━━━━━━━━━━━━━┓\n",
              "┃<span style=\"font-weight: bold\"> Layer (type)                         </span>┃<span style=\"font-weight: bold\"> Output Shape                </span>┃<span style=\"font-weight: bold\">         Param # </span>┃\n",
              "┡━━━━━━━━━━━━━━━━━━━━━━━━━━━━━━━━━━━━━━╇━━━━━━━━━━━━━━━━━━━━━━━━━━━━━╇━━━━━━━━━━━━━━━━━┩\n",
              "│ dense_9 (<span style=\"color: #0087ff; text-decoration-color: #0087ff\">Dense</span>)                      │ ?                           │     <span style=\"color: #00af00; text-decoration-color: #00af00\">0</span> (unbuilt) │\n",
              "├──────────────────────────────────────┼─────────────────────────────┼─────────────────┤\n",
              "│ dense_10 (<span style=\"color: #0087ff; text-decoration-color: #0087ff\">Dense</span>)                     │ ?                           │     <span style=\"color: #00af00; text-decoration-color: #00af00\">0</span> (unbuilt) │\n",
              "├──────────────────────────────────────┼─────────────────────────────┼─────────────────┤\n",
              "│ dense_11 (<span style=\"color: #0087ff; text-decoration-color: #0087ff\">Dense</span>)                     │ ?                           │     <span style=\"color: #00af00; text-decoration-color: #00af00\">0</span> (unbuilt) │\n",
              "└──────────────────────────────────────┴─────────────────────────────┴─────────────────┘\n",
              "</pre>\n"
            ]
          },
          "metadata": {}
        },
        {
          "output_type": "display_data",
          "data": {
            "text/plain": [
              "\u001b[1m Total params: \u001b[0m\u001b[38;5;34m0\u001b[0m (0.00 B)\n"
            ],
            "text/html": [
              "<pre style=\"white-space:pre;overflow-x:auto;line-height:normal;font-family:Menlo,'DejaVu Sans Mono',consolas,'Courier New',monospace\"><span style=\"font-weight: bold\"> Total params: </span><span style=\"color: #00af00; text-decoration-color: #00af00\">0</span> (0.00 B)\n",
              "</pre>\n"
            ]
          },
          "metadata": {}
        },
        {
          "output_type": "display_data",
          "data": {
            "text/plain": [
              "\u001b[1m Trainable params: \u001b[0m\u001b[38;5;34m0\u001b[0m (0.00 B)\n"
            ],
            "text/html": [
              "<pre style=\"white-space:pre;overflow-x:auto;line-height:normal;font-family:Menlo,'DejaVu Sans Mono',consolas,'Courier New',monospace\"><span style=\"font-weight: bold\"> Trainable params: </span><span style=\"color: #00af00; text-decoration-color: #00af00\">0</span> (0.00 B)\n",
              "</pre>\n"
            ]
          },
          "metadata": {}
        },
        {
          "output_type": "display_data",
          "data": {
            "text/plain": [
              "\u001b[1m Non-trainable params: \u001b[0m\u001b[38;5;34m0\u001b[0m (0.00 B)\n"
            ],
            "text/html": [
              "<pre style=\"white-space:pre;overflow-x:auto;line-height:normal;font-family:Menlo,'DejaVu Sans Mono',consolas,'Courier New',monospace\"><span style=\"font-weight: bold\"> Non-trainable params: </span><span style=\"color: #00af00; text-decoration-color: #00af00\">0</span> (0.00 B)\n",
              "</pre>\n"
            ]
          },
          "metadata": {}
        }
      ],
      "source": [
        "## Training parameters ##\n",
        "## Re-run this cell to restart training from scratch ##\n",
        "\n",
        "# TODO: Learning rate and optimizer\n",
        "learning_rate = 1e-3\n",
        "optimizer = tf.optimizers.Adam(learning_rate)\n",
        "\n",
        "# instantiate cartpole agent\n",
        "cartpole_model = create_cartpole_model()\n",
        "cartpole_model.summary()\n",
        "\n",
        "# to track our progress\n",
        "\n",
        "class LossHistory:\n",
        "  def __init__(self, smoothing_factor=0.0):\n",
        "    self.alpha = smoothing_factor\n",
        "    self.loss = []\n",
        "  def append(self, value):\n",
        "    self.loss.append( self.alpha*self.loss[-1] + (1-self.alpha)*value if len(self.loss)>0 else value )\n",
        "  def get(self):\n",
        "    return self.loss\n",
        "\n",
        "smoothed_reward = LossHistory(smoothing_factor=0.8)\n",
        "\n",
        "import time\n",
        "from IPython import display as ipythondisplay\n",
        "\n",
        "class PeriodicPlotter:\n",
        "  def __init__(self, sec, xlabel='', ylabel='', scale=None):\n",
        "\n",
        "    self.xlabel = xlabel\n",
        "    self.ylabel = ylabel\n",
        "    self.sec = sec\n",
        "    self.scale = scale\n",
        "    self.tic = time.time()\n",
        "\n",
        "  def plot(self, data):\n",
        "    if time.time() - self.tic > self.sec:\n",
        "      plt.cla() #clear the current axes\n",
        "      if self.scale is None:\n",
        "        plt.plot(data)\n",
        "      elif self.scale == 'semilogx':\n",
        "        plt.semilogx(data)\n",
        "      elif self.scale == 'semilogy':\n",
        "        plt.semilogy(data)\n",
        "      elif self.scale == 'loglog':\n",
        "        plt.loglog(data)\n",
        "      else:\n",
        "        raise ValueError(\"unrecognized parameter scale {}\".format(self.scale))\n",
        "      plt.xlabel(self.xlabel); plt.ylabel(self.ylabel)\n",
        "      ipythondisplay.clear_output(wait=True)\n",
        "      ipythondisplay.display(plt.gcf())\n",
        "      plt.close()\n",
        "\n",
        "      self.tic = time.time()\n",
        "\n",
        "plotter = PeriodicPlotter(sec=2, xlabel='Episode number', ylabel='Smoothed Total Rewards')"
      ]
    },
    {
      "cell_type": "markdown",
      "source": [
        "env.step(action): Run one timestep of the environment’s dynamics using the agent actions. (Source: https://gymnasium.farama.org/api/env/)\n",
        "\n",
        "Returns:\n",
        "- observation (ObsType): An element of the environment’s observation_space as the next observation due to the agent actions. An example is a numpy array containing the positions and velocities of the pole in CartPole.\n",
        "\n",
        "- reward (SupportsFloat): The reward as a result of taking the action.\n",
        "\n",
        "- terminated (bool): Whether the agent reaches the terminal state (as defined under the MDP of the task) which can be positive or negative. An example is reaching the goal state or moving into the lava from the Sutton and Barton, Gridworld. If true, the user needs to call reset().\n",
        "\n",
        "- truncated (bool): Whether the truncation condition outside the scope of the MDP is satisfied. Typically, this is a timelimit, but could also be used to indicate an agent physically going out of bounds. Can be used to end the episode prematurely before a terminal state is reached. If true, the user needs to call reset().\n",
        "\n",
        "- info (dict): Contains auxiliary diagnostic information (helpful for debugging, learning, and logging). This might, for instance, contain: metrics that describe the agent’s performance state, variables that are hidden from observations, or individual reward terms that are combined to produce the total reward.\n"
      ],
      "metadata": {
        "id": "ALPygZlg2MD9"
      }
    },
    {
      "cell_type": "code",
      "execution_count": null,
      "metadata": {
        "id": "XmOzc2rrcn8Q",
        "scrolled": false,
        "colab": {
          "base_uri": "https://localhost:8080/",
          "height": 449
        },
        "outputId": "ff0fc2a2-b62d-4700-96c6-1a4df40fd73b"
      },
      "outputs": [
        {
          "output_type": "display_data",
          "data": {
            "text/plain": [
              "<Figure size 640x480 with 1 Axes>"
            ],
            "image/png": "[encoded data removed]"
          },
          "metadata": {}
        }
      ],
      "source": [
        "## Cartpole training! ##\n",
        "## Note: stoping and restarting this cell will pick up training where you\n",
        "#        left off. To restart training you need to rerun the cell above as\n",
        "#        well (to re-initialize the model and optimizer)\n",
        "\n",
        "for i_episode in range(100):\n",
        "    plotter.plot(smoothed_reward.get())\n",
        "    #print(\"i_episode =\",i_episode)\n",
        "    # Restart the environment\n",
        "    observation, info = env.reset()\n",
        "    #print(f\"initial observation - episode {i_episode}=\",observation)\n",
        "    memory.clear()\n",
        "\n",
        "    while True:\n",
        "        # using our observation, choose an action and take it in the environment\n",
        "        action = choose_action(cartpole_model, observation)\n",
        "        #print(\"action =\",action)\n",
        "        #print(env.step(action))\n",
        "        next_observation, reward, terminated, truncated, info = env.step(action)\n",
        "        # add to memory\n",
        "        memory.add_to_memory(observation, action, reward)\n",
        "\n",
        "        # is the episode over? did you crash or do so well that you're done?\n",
        "        if terminated:\n",
        "            # determine total reward and keep a record of this\n",
        "            total_reward = sum(memory.rewards)\n",
        "            smoothed_reward.append(total_reward)\n",
        "\n",
        "            # initiate training - remember we don't know anything about how the\n",
        "            #   agent is doing until it has crashed!\n",
        "            g = train_step(cartpole_model, compute_loss, optimizer,\n",
        "                       observations=np.vstack(memory.observations),\n",
        "                       actions=np.array(memory.actions),\n",
        "                       discounted_rewards = discount_rewards(memory.rewards))\n",
        "\n",
        "            # reset the memory\n",
        "            memory.clear()\n",
        "            break\n",
        "        # update our observatons\n",
        "        observation = next_observation"
      ]
    },
    {
      "cell_type": "code",
      "source": [
        "plt.figure(figsize=(8, 8))\n",
        "plt.plot(smoothed_reward.get())\n",
        "plt.xlabel('Episode')\n",
        "plt.ylabel('Smoothed Total Reward')\n",
        "plt.show()"
      ],
      "metadata": {
        "id": "1icg0opNDVqW"
      },
      "execution_count": null,
      "outputs": []
    },
    {
      "cell_type": "code",
      "source": [
        "from IPython import display as ipython_display\n",
        "\n",
        "# Create the CartPole-v1 environment\n",
        "env = gym.make(\"CartPole-v1\", render_mode='rgb_array')\n",
        "\n",
        "# Function to display environment frames\n",
        "def show_frame(env):\n",
        "    plt.figure(figsize=(8, 6))\n",
        "    plt.imshow(env.render())\n",
        "    plt.axis('off')\n",
        "    ipython_display.display(plt.gcf())\n",
        "    ipython_display.clear_output(wait=True)\n",
        "\n",
        "# Reset the environment\n",
        "observation, info = env.reset()\n",
        "\n",
        "for _ in range(20):  # Run for 1000 time steps\n",
        "    show_frame(env)  # Display the frame using matplotlib\n",
        "    observation= np.expand_dims(observation, axis=0)\n",
        "    action_probs = cartpole_model.predict(observation,verbose=0) # Use your trained model to predict the action\n",
        "    action = np.argmax(action_probs[0])  # Choose the action with the highest probability\n",
        "    observation, reward, terminated, truncated, info = env.step(action) # Apply the action to the environment and redefine observation\n",
        "    if terminated:  # If the episode is finished, reset the environment\n",
        "        observation, info = env.reset()\n",
        "\n",
        "env.close()  # Close the environment when done"
      ],
      "metadata": {
        "colab": {
          "base_uri": "https://localhost:8080/",
          "height": 450
        },
        "id": "hd-AgJVrHeAs",
        "outputId": "6f2764e2-5033-4c9e-ff60-b54d1d9ce506"
      },
      "execution_count": null,
      "outputs": [
        {
          "output_type": "display_data",
          "data": {
            "text/plain": [
              "<Figure size 800x600 with 1 Axes>"
            ],
            "image/png": "[encoded data removed]"
          },
          "metadata": {}
        }
      ]
    },
    {
      "cell_type": "markdown",
      "metadata": {
        "id": "mkcUtGF1VE-K"
      },
      "source": [
        "To get a sense of how our agent did, we can save a video of the trained model working on balancing the pole. Realize that this is a brand new environment that the agent has not seen before!"
      ]
    },
    {
      "cell_type": "code",
      "source": [
        "!apt-get install -y xvfb &> /dev/null"
      ],
      "metadata": {
        "id": "g6UDCo-wXJhG"
      },
      "execution_count": null,
      "outputs": []
    },
    {
      "cell_type": "code",
      "source": [
        "matplotlib.use('Agg')\n",
        "import skvideo.io\n",
        "from pyvirtualdisplay import Display\n",
        "\n",
        "# Create a virtual display\n",
        "display = Display(visible=0, size=(300, 300))\n",
        "display.start()\n",
        "\n",
        "# Initialize CartPole environment\n",
        "env = gym.make(\"CartPole-v1\", render_mode='rgb_array')\n",
        "obs, info = env.reset()\n",
        "\n",
        "filename = \"CartPole-Agent.mp4\"\n",
        "output_video = skvideo.io.FFmpegWriter(filename, outputdict={'-vcodec': 'libx264', '-pix_fmt': 'yuv420p'})\n",
        "\n",
        "counter = 0\n",
        "done = False\n",
        "while not done:\n",
        "    frame = env.render()\n",
        "    output_video.writeFrame(frame)\n",
        "    action = np.argmax(cartpole_model(np.expand_dims(obs, 0)).numpy())\n",
        "    obs, reward, done, truncated, info = env.step(action)\n",
        "    counter += 1\n",
        "\n",
        "output_video.close()\n",
        "env.close()\n",
        "display.stop()\n",
        "print(\"Successfully saved {} frames into {}!\".format(counter, filename))\n"
      ],
      "metadata": {
        "colab": {
          "base_uri": "https://localhost:8080/"
        },
        "id": "7d10RK67SqXu",
        "outputId": "74a1a7a2-0813-45ac-bae2-a59cc7842aff"
      },
      "execution_count": null,
      "outputs": [
        {
          "output_type": "stream",
          "name": "stderr",
          "text": [
            "/usr/local/lib/python3.10/dist-packages/skvideo/io/abstract.py:514: DeprecationWarning: tostring() is deprecated. Use tobytes() instead.\n",
            "  self._proc.stdin.write(vid.tostring())\n"
          ]
        },
        {
          "output_type": "stream",
          "name": "stdout",
          "text": [
            "Successfully saved 268 frames into CartPole-Agent.mp4!\n"
          ]
        }
      ]
    },
    {
      "cell_type": "markdown",
      "source": [
        "Let's display the saved video to watch how our agent did!"
      ],
      "metadata": {
        "id": "dJWLP485SqsN"
      }
    },
    {
      "cell_type": "code",
      "source": [
        "import io\n",
        "import base64\n",
        "from IPython.display import HTML\n",
        "\n",
        "def play_video(filename, width=None):\n",
        "    encoded = base64.b64encode(io.open(filename, 'r+b').read())\n",
        "    video_width = 'width=\"' + str(width) + '\"' if width is not None else ''\n",
        "    embedded = HTML(data='''\n",
        "        <video controls {0}>\n",
        "            <source src=\"data:video/mp4;base64,{1}\" type=\"video/mp4\" />\n",
        "        </video>'''.format(video_width, encoded.decode('ascii')))\n",
        "\n",
        "    return embedded\n",
        "\n",
        "play_video(filename, width=500)"
      ],
      "metadata": {
        "colab": {
          "base_uri": "https://localhost:8080/",
          "height": 355
        },
        "id": "FcRsNz8RjoBZ",
        "outputId": "8a61d2dc-ebb1-4dcd-8802-83fc3c7cb1b8"
      },
      "execution_count": null,
      "outputs": [
        {
          "output_type": "execute_result",
          "data": {
            "text/plain": [
              "<IPython.core.display.HTML object>"
            ],
            "text/html": [
              "\n",
              "        <video controls width=\"500\">\n",
              "            <source src=\"data:video/mp4;base64,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\" type=\"video/mp4\" />\n",
              "        </video>"
            ]
          },
          "metadata": {},
          "execution_count": 54
        }
      ]
    },
    {
      "cell_type": "code",
      "source": [
        "# Save the model\n",
        "cartpole_model.save('RL_cartpole_agent.keras')\n",
        "\n",
        "# Later, load the model\n",
        "loaded_model = tf.keras.models.load_model('RL_cartpole_agent.keras')"
      ],
      "metadata": {
        "id": "EvQi0pim26P5"
      },
      "execution_count": null,
      "outputs": []
    },
    {
      "cell_type": "markdown",
      "metadata": {
        "id": "CSbVNDpaVb3_"
      },
      "source": [
        "How does the agent perform? Could you train it for shorter amounts of time and still perform well? Do you think that training longer would help even more?"
      ]
    }
  ],
  "metadata": {
    "accelerator": "GPU",
    "colab": {
      "provenance": [],
      "include_colab_link": true
    },
    "kernelspec": {
      "display_name": "Python 3",
      "language": "python",
      "name": "python3"
    },
    "language_info": {
      "codemirror_mode": {
        "name": "ipython",
        "version": 3
      },
      "file_extension": ".py",
      "mimetype": "text/x-python",
      "name": "python",
      "nbconvert_exporter": "python",
      "pygments_lexer": "ipython3",
      "version": "3.9.7"
    }
  },
  "nbformat": 4,
  "nbformat_minor": 0
}